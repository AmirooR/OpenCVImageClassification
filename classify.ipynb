{
 "metadata": {
  "name": "classify"
 },
 "nbformat": 3,
 "nbformat_minor": 0,
 "worksheets": [
  {
   "cells": [
    {
     "cell_type": "code",
     "collapsed": false,
     "input": [
      "import numpy as np\n",
      "from sklearn import datasets\n",
      "from sklearn import svm\n",
      "from sklearn.cross_validation import StratifiedKFold\n",
      "\n",
      "(X,y) = datasets.load_svmlight_file('partial_train.txt')\n",
      "print X.shape\n",
      "print y.shape\n",
      "\n",
      "X_train = X.todense()\n",
      "clf = svm.LinearSVC(C=100)\n",
      "skf = StratifiedKFold(y, 5)\n",
      "\n",
      "for train_idx, test_idx in skf:\n",
      "    X_train_k, X_test_k = X_train[train_idx], X_train[test_idx]\n",
      "    y_train_k, y_test_k = y[train_idx], y[test_idx] \n",
      "    clf = svm.LinearSVC(C=100)\n",
      "    clf.fit(X_train_k, y_train_k)\n",
      "    z = clf.predict(X_test_k)\n",
      "    print( np.sum( np.abs( z - y_test_k) / 2.0 ) / len(z) )\n",
      "    idx = np.where( y_test_k > 0 )\n",
      "    z_1 = z[idx]\n",
      "    print len( np.where( z_1 < 0)[0] ) / (1.0*len(z_1))\n"
     ],
     "language": "python",
     "metadata": {},
     "outputs": [
      {
       "output_type": "stream",
       "stream": "stdout",
       "text": [
        "(2840, 1024)\n",
        "(2840,)\n",
        "0.00880281690141"
       ]
      },
      {
       "output_type": "stream",
       "stream": "stdout",
       "text": [
        "\n",
        "0.0238095238095\n",
        "0.0158450704225"
       ]
      },
      {
       "output_type": "stream",
       "stream": "stdout",
       "text": [
        "\n",
        "0.0396825396825\n",
        "0.0176056338028"
       ]
      },
      {
       "output_type": "stream",
       "stream": "stdout",
       "text": [
        "\n",
        "0.0396825396825\n",
        "0.012323943662"
       ]
      },
      {
       "output_type": "stream",
       "stream": "stdout",
       "text": [
        "\n",
        "0.0314960629921\n",
        "0.0140845070423"
       ]
      },
      {
       "output_type": "stream",
       "stream": "stdout",
       "text": [
        "\n",
        "0.0472440944882\n"
       ]
      }
     ],
     "prompt_number": 1
    },
    {
     "cell_type": "code",
     "collapsed": false,
     "input": [],
     "language": "python",
     "metadata": {},
     "outputs": []
    }
   ],
   "metadata": {}
  }
 ]
}