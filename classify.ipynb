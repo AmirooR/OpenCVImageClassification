{
 "metadata": {
  "name": "classify"
 },
 "nbformat": 3,
 "nbformat_minor": 0,
 "worksheets": [
  {
   "cells": [
    {
     "cell_type": "code",
     "collapsed": false,
     "input": [
      "import numpy as np\n",
      "from sklearn import datasets\n",
      "from sklearn import svm\n",
      "from sklearn.cross_validation import StratifiedKFold\n",
      "from xattr import xattr\n",
      "import os\n",
      "\n",
      "def kFoldClassify():\n",
      "    (X,y) = datasets.load_svmlight_file('partial_train.txt')\n",
      "    print X.shape\n",
      "    print y.shape\n",
      "\n",
      "    X_train = X.todense()\n",
      "    clf = svm.LinearSVC(C=10)\n",
      "    skf = StratifiedKFold(y, 3)\n",
      "\n",
      "    for train_idx, test_idx in skf:\n",
      "        X_train_k, X_test_k = X_train[train_idx], X_train[test_idx]\n",
      "        y_train_k, y_test_k = y[train_idx], y[test_idx] \n",
      "        clf = svm.LinearSVC(C=100)\n",
      "        clf.fit(X_train_k, y_train_k)\n",
      "        z = clf.predict(X_test_k)\n",
      "        print( np.sum( np.abs( z - y_test_k) / 2.0 ) / len(z) )\n",
      "        idx = np.where( y_test_k > 0 )\n",
      "        idx2 = np.where( y_test_k < 0)\n",
      "        z_0 = z[idx2]\n",
      "        z_1 = z[idx]\n",
      "        print '1:  ',len( np.where( z_1 < 0)[0] ) / (1.0*len(z_1))\n",
      "        print '-1: ',len( np.where( z_0 > 0)[0] ) / (1.0*len(z_0))"
     ],
     "language": "python",
     "metadata": {},
     "outputs": [],
     "prompt_number": 2
    },
    {
     "cell_type": "code",
     "collapsed": false,
     "input": [
      "def set_label(filename, color_name):\n",
      "    colors = ['none', 'gray', 'green', 'purple', 'blue', 'yellow', 'red', 'orange']\n",
      "    key = u'com.apple.FinderInfo'\n",
      "    attrs = xattr(filename)\n",
      "    current = attrs.copy().get(key, chr(0)*32)\n",
      "    changed = current[:9] + chr(colors.index(color_name)*2) + current[10:]\n",
      "    attrs.set(key, changed)\n",
      "    \n",
      "def classifyAll():\n",
      "    (X,y) = datasets.load_svmlight_file('partial_train.txt')\n",
      "    print X.shape\n",
      "    print y.shape\n",
      "\n",
      "    X_train = X.todense()\n",
      "    clf = svm.LinearSVC(C=10)\n",
      "    clf.fit(X_train, y)\n",
      "    return clf\n",
      "\n",
      "def colorizeAll(root_path, names_file, clf, features_file):\n",
      "    fd = open(names_file)\n",
      "    (X,y) = datasets.load_svmlight_file(features_file)\n",
      "    X_test = X.todense()\n",
      "    i = 0\n",
      "    y_pred = clf.predict(X_test)\n",
      "    for x in fd.readlines():\n",
      "        if i % 100 == 0:\n",
      "            print '[',i,']',x[:-1]\n",
      "        if( y_pred[i] == 1 ):\n",
      "            set_label(root_path + x[:-1], 'red')\n",
      "        else:\n",
      "            set_label(root_path + x[:-1], 'gray')\n",
      "        i += 1\n",
      "        \n",
      "\n"
     ],
     "language": "python",
     "metadata": {},
     "outputs": [],
     "prompt_number": 16
    },
    {
     "cell_type": "code",
     "collapsed": false,
     "input": [
      "clf = classifyAll()\n",
      "colorizeAll('/Users/amirrahimi/temp/Gomrok/data/isLicense/partial_not_labeled/','partial_test.names.txt', clf, 'partial_test.txt')"
     ],
     "language": "python",
     "metadata": {},
     "outputs": [
      {
       "output_type": "stream",
       "stream": "stdout",
       "text": [
        "(2840, 1024)\n",
        "(2840,)\n",
        "["
       ]
      },
      {
       "output_type": "stream",
       "stream": "stdout",
       "text": [
        " 0 ] 16E66473_1_1.jpg\n",
        "["
       ]
      },
      {
       "output_type": "stream",
       "stream": "stdout",
       "text": [
        " 100 ] 17E11163_1_1.jpg\n",
        "[ 200 ] 17E44568_3_3.jpg\n",
        "["
       ]
      },
      {
       "output_type": "stream",
       "stream": "stdout",
       "text": [
        " 300 ] 18E56573_3_1.jpg\n",
        "[ 400 ] 19E38373_3_2.jpg\n",
        "["
       ]
      },
      {
       "output_type": "stream",
       "stream": "stdout",
       "text": [
        " 500 ] 19E82273_5_5.jpg\n",
        "[ 600 ] 21E14173_6_1.jpg\n",
        "[ 700 ] 21E27711_5_2.jpg\n",
        "[ 800 ] 21E74163_1_1.jpg\n",
        "["
       ]
      },
      {
       "output_type": "stream",
       "stream": "stdout",
       "text": [
        " 900 ] 22E38623_8_9.jpg\n",
        "[ 1000 ] 22E64373_6_2.jpg\n",
        "[ 1100 ] 23E14173_3_3.jpg\n",
        "[ 1200 ] 23E19373_7_2.jpg\n",
        "["
       ]
      },
      {
       "output_type": "stream",
       "stream": "stdout",
       "text": [
        " 1300 ] 23E62848_4_5.jpg\n",
        "[ 1400 ] 24E28773_5_2.jpg\n",
        "[ 1500 ] 24E76173_5_2.jpg\n",
        "[ 1600 ] 25E31148_4_3.jpg\n",
        "["
       ]
      },
      {
       "output_type": "stream",
       "stream": "stdout",
       "text": [
        " 1700 ] 25E66148_4_3.jpg\n",
        "[ 1800 ] 26E12373_3_3.jpg\n",
        "["
       ]
      },
      {
       "output_type": "stream",
       "stream": "stdout",
       "text": [
        " 1900 ] 26E46848_2_1.jpg\n",
        "[ 2000 ] 26E98448_1_1.jpg\n",
        "[ 2100 ] 27E26648_3_1.jpg\n",
        "[ 2200 ] 27E47148_3_3.jpg\n",
        "["
       ]
      },
      {
       "output_type": "stream",
       "stream": "stdout",
       "text": [
        " 2300 ] 27E69448_7_3.jpg\n",
        "[ 2400 ] 27E92948_5_2.jpg\n",
        "[ 2500 ] 28E17148_4_1.jpg\n",
        "[ 2600 ] 29E11663_1_1.jpg\n",
        "["
       ]
      },
      {
       "output_type": "stream",
       "stream": "stdout",
       "text": [
        " 2700 ] 29E32163_3_2.jpg\n",
        "[ 2800 ] 29E63563_3_3.jpg\n",
        "[ 2900 ] 29E84563_3_3.jpg\n",
        "[ 3000 ] 31E39613_5_6.jpg\n",
        "["
       ]
      },
      {
       "output_type": "stream",
       "stream": "stdout",
       "text": [
        " 3100 ] 33E13114_4_1.jpg\n",
        "[ 3200 ] 33E99563_4_5.jpg\n",
        "["
       ]
      },
      {
       "output_type": "stream",
       "stream": "stdout",
       "text": [
        " 3300 ] 35E92471_3_2.jpg\n",
        "[ 3400 ] 36E94273_3_2.jpg\n",
        "[ 3500 ] 37E68763_6_11.jpg\n",
        "[ 3600 ] 39E24368_6_7.jpg\n",
        "["
       ]
      },
      {
       "output_type": "stream",
       "stream": "stdout",
       "text": [
        " 3700 ] 41E43463_4_4.jpg\n",
        "[ 3800 ] 43E54663_2_1.jpg\n",
        "[ 3900 ] 44E49763_6_6.jpg\n",
        "[ 4000 ] 46E16932_6_2.jpg\n",
        "[ 4100 ] 49E34663_3_2.jpg\n"
       ]
      }
     ],
     "prompt_number": 17
    },
    {
     "cell_type": "code",
     "collapsed": false,
     "input": [],
     "language": "python",
     "metadata": {},
     "outputs": []
    }
   ],
   "metadata": {}
  }
 ]
}